{
 "cells": [
  {
   "cell_type": "code",
   "execution_count": null,
   "metadata": {},
   "outputs": [],
   "source": [
    "from initialize import *\n",
    "initialize()"
   ]
  },
  {
   "cell_type": "markdown",
   "metadata": {},
   "source": [
    "# Test Voting System"
   ]
  },
  {
   "cell_type": "code",
   "execution_count": null,
   "metadata": {},
   "outputs": [],
   "source": [
    "#Check if admin (user that deployed the contract) is an admin by default:\n",
    "printResult(\"admin address is a voter by default\", \n",
    "            PowerChain.call(METHODS.IS_VOTER,account=admin),True)\n",
    "\n",
    "#user2 should not be a voter until admin upgrate it\n",
    "printResult(\"user2 is not a voter initialy\", \n",
    "            PowerChain.call(METHODS.IS_VOTER,account=user2), False)\n",
    "\n",
    "#Admin (first voter) votes to make user2 a voter:\n",
    "PowerChain.execute(METHODS.ADD_VOTER,toAddress(user2.address),account=admin)\n",
    "\n",
    "#Check if user2 became a voter:\n",
    "printResult(\"user2 address upgrated with voter roles by admin\", \n",
    "            PowerChain.call(METHODS.IS_VOTER,account=user2),True)\n",
    "\n",
    "#Check if user is not a voter:\n",
    "printResult(\"user1 address is not a voter\", \n",
    "            PowerChain.call(METHODS.IS_VOTER,account=user1),False)\n",
    "\n",
    "#Admin votes for user3 to become a voter:\n",
    "PowerChain.execute(METHODS.ADD_VOTER,\n",
    "                   toAddress(user3.address),account=admin)\n",
    "#user3 should not be a voter because now also user2 has to agree with this vote\n",
    "printResult(\"Admin votes for user3 to became voter but also user2 has to agree now\", \n",
    "            PowerChain.call(METHODS.IS_VOTER,account=user3),False)\n",
    "\n",
    "#user2 votes for user3 to become a voter:\n",
    "PowerChain.execute(METHODS.ADD_VOTER,\n",
    "                   toAddress(user3.address),account=user2)\n",
    "#user3 should not be a voter because now also user2 has to agree with this vote\n",
    "printResult(\"user2 votes for user3 to became a voter. Now user3 is a voter\", \n",
    "            PowerChain.call(METHODS.IS_VOTER,account=user3), True)\n",
    "\n",
    "#user3 votes to be removed from voter:\n",
    "PowerChain.execute(METHODS.REMOVE_VOTER,\n",
    "                   toAddress(user3.address),account=user3)\n",
    "printResult(\"user3 votes to be removed from voter but 50% of voters should agree\", \n",
    "            PowerChain.call(METHODS.IS_VOTER,account=user3), True)\n",
    "\n",
    "#user2 votes to remove user3 from voter:\n",
    "PowerChain.execute(METHODS.REMOVE_VOTER,\n",
    "                   toAddress(user3.address),account=user2)\n",
    "printResult(\"user2 votes to remove user3 from voter, user3 no longer a voter\", \n",
    "            PowerChain.call(METHODS.IS_VOTER,account=user3), False)\n",
    "\n",
    "#user2 votes to be removed from voter:\n",
    "PowerChain.execute(METHODS.REMOVE_VOTER,\n",
    "                   toAddress(user2.address),account=user2)\n",
    "printResult(\"user2 votes to be removed from voter but 50% of voters should agree\", \n",
    "            PowerChain.call(METHODS.IS_VOTER,account=user2), True)\n",
    "\n",
    "#user2 votes changes its vote, no longer want to be removed from voter:\n",
    "PowerChain.execute(METHODS.REMOVE_VOTER,\n",
    "                   toAddress(user2.address),account=user2)\n",
    "#admin votes to remove user2 from voter:\n",
    "PowerChain.execute(METHODS.REMOVE_VOTER,\n",
    "                   toAddress(user2.address),account=admin)\n",
    "printResult(\"user2 changes its vote, want to stay a voter. Admin votes to remove user2 but is still voter\", \n",
    "            PowerChain.call(METHODS.IS_VOTER,account=user2), True)\n",
    "\n",
    "#admin votes to remove user2 from voter:\n",
    "PowerChain.execute(METHODS.REMOVE_VOTER,\n",
    "                   toAddress(user2.address),account=user2)\n",
    "printResult(\"user2 votes to be removed from voter again and is no longer a voter\", \n",
    "            PowerChain.call(METHODS.IS_VOTER,account=user2), False)"
   ]
  },
  {
   "cell_type": "code",
   "execution_count": null,
   "metadata": {},
   "outputs": [],
   "source": [
    "#Admin votes\n",
    "votes = [(\"Vote String\",\"User Vote\", \"Final Decision\")]\n",
    "votes.append(PowerChain.call(METHODS.GET_VOTES,account=admin))\n",
    "pprint(votes)"
   ]
  }
 ],
 "metadata": {
  "kernelspec": {
   "display_name": "Python 3",
   "language": "python",
   "name": "python3"
  },
  "language_info": {
   "codemirror_mode": {
    "name": "ipython",
    "version": 3
   },
   "file_extension": ".py",
   "mimetype": "text/x-python",
   "name": "python",
   "nbconvert_exporter": "python",
   "pygments_lexer": "ipython3",
   "version": "3.10.12"
  }
 },
 "nbformat": 4,
 "nbformat_minor": 2
}
