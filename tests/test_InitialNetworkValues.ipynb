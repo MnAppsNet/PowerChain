{
 "cells": [
  {
   "cell_type": "code",
   "execution_count": null,
   "metadata": {},
   "outputs": [],
   "source": [
    "from initialize import *\n",
    "initialize()"
   ]
  },
  {
   "cell_type": "code",
   "execution_count": null,
   "metadata": {},
   "outputs": [],
   "source": [
    "rates = PowerChain.call(METHODS.GET_ENERGY_RATES)\n",
    "printResult(\"Minting cost is 0 ENT\", rates[0], 0)\n",
    "printResult(\"Burning rate is 0 ENT\", rates[1], 0)\n",
    "\n",
    "print(\"Initial Network Parameter Values:\")\n",
    "parameters = PowerChain.call(\"getParameters\")\n",
    "print(f'''\n",
    "Max Minting Cost                : {fromInternalNumber(parameters[0])} ENT/kWh\n",
    "Max Burning Cost                : {fromInternalNumber(parameters[1])} ENT/kWh\n",
    "Missing energy recover rate     : {fromInternalNumber(parameters[2])} percentage of lost energy\n",
    "Energy session validity period  : {parameters[3]} s\n",
    "Storage Provider Fee            : {fromInternalNumber(parameters[4])} ENT per 1 ENT produced''')"
   ]
  }
 ],
 "metadata": {
  "language_info": {
   "name": "python"
  }
 },
 "nbformat": 4,
 "nbformat_minor": 2
}
