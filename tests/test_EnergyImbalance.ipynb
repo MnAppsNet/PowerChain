{
 "cells": [
  {
   "cell_type": "code",
   "execution_count": null,
   "metadata": {},
   "outputs": [],
   "source": [
    "from initialize import *\n",
    "initialize()"
   ]
  },
  {
   "cell_type": "markdown",
   "metadata": {},
   "source": [
    "# Test Energy Imbalance Handling"
   ]
  },
  {
   "cell_type": "code",
   "execution_count": null,
   "metadata": {},
   "outputs": [],
   "source": [
    "#Check if admin (user that deployed the contract) is an admin by default:\n",
    "PowerChain.execute(METHODS.ADD_STORAGE_UNIT,toAddress(unit1.address),toAddress(user1.address),account=admin)\n",
    "printResult(\"Admin makes unit1 a storage unit with owner user1\",\n",
    "            any(u[1] == unit1.address for u in PowerChain.call(METHODS.GET_STORAGE_UNIT_INFO)), True)\n",
    "\n",
    "printResult(\"User1 produces 10 kWh in unit1 and unit1 reports the production\",\n",
    "            PowerChain.execute(METHODS.ENERGY_PRODUCED,toAddress(user1.address),10000,account=unit1), \"\")\n",
    "\n",
    "printResult(\"Unit1 has now 10 kWh\",\n",
    "            PowerChain.call(METHODS.GET_STORAGE_UNIT_ENERGY,toAddress(unit1.address)),10000)\n",
    "\n",
    "printResult(\"User1 has now 10 ENT\",\n",
    "            PowerChain.call(METHODS.BALANCE_ENT,account=user1),[toInternalNumber(10),0])\n",
    "\n",
    "printResult(\"Unit1 lost a battery, has now 9 kWh and reports the actual energy\",\n",
    "            PowerChain.execute(METHODS.REPORT_ACTUAL_ENERGY,9000,account=unit1),\"\")\n",
    "\n",
    "rates = PowerChain.call(METHODS.GET_ENERGY_RATES)\n",
    "printResult(\"The cost to mint tokens now is 0.05 ENT / kWh\",\n",
    "            rates[0],toInternalNumber(0.05))\n",
    "printResult(\"The cost to burn tokens now is 0.05 ENT / kWh\",\n",
    "            rates[1],toInternalNumber(0.05))\n",
    "\n",
    "printResult(\"User1 produces 10 kWh in unit1 and unit1 reports the production\",\n",
    "            PowerChain.execute(METHODS.ENERGY_PRODUCED,toAddress(user1.address),10000,account=unit1), \"\")\n",
    "printResult(\"User1 has now 19.5 ENT, 9.5 ENT rewarded due to mint cost\",\n",
    "            PowerChain.call(METHODS.BALANCE_ENT,account=user1),[toInternalNumber(19.5),0])\n",
    "printResult(\"Unit1 has now 19 kWh\",\n",
    "            PowerChain.call(METHODS.GET_STORAGE_UNIT_ENERGY,toAddress(unit1.address)),19000)\n",
    "\n",
    "printResult(\"User1 starts a consumption session worth 19.5 ENT with unit1\",\n",
    "            \"session started\" in PowerChain.execute(METHODS.START_CONSUMPTION_SESSION,toAddress(unit1.address),toInternalNumber(19.5),account=user1),True)\n",
    "printResult(\"There is one consumption session for user1\",\n",
    "            len(PowerChain.call(METHODS.GET_CONSUMPTION_SESSIONS,account=user1)), 1)\n",
    "printResult(\"Consumtion session of unit1 with user1 should now have 19.5 / 1.05 = 18.571 kWh\",\n",
    "            PowerChain.call(METHODS.GET_CONSUMPTION_SESSION_ENERGY,toAddress(unit1.address),account=user1), 18571)\n",
    "printResult(\"User1 has now 19.5 ENT locked\",\n",
    "            PowerChain.call(METHODS.BALANCE_ENT,account=user1),[0,toInternalNumber(19.5)])\n",
    "\n",
    "printResult(\"User1 consumes 18.571kWh from the consumption session with unit1 and unit1 reports it\",\n",
    "            PowerChain.execute(METHODS.ENERGY_CONSUMED,toAddress(user1.address),18571,account=unit1) , \"\")\n",
    "printResult(\"No active consumption sessions for user1\",\n",
    "            len(PowerChain.call(METHODS.GET_CONSUMPTION_SESSIONS,account=user1)), 0)\n",
    "\n",
    "rates = PowerChain.call(METHODS.GET_ENERGY_RATES)\n",
    "printResult(\"The cost to mint tokens now is 0 ENT / kWh\",\n",
    "            rates[0],0)\n",
    "printResult(\"The cost to burn tokens now is 0 ENT / kWh\",\n",
    "            rates[1],0)\n",
    "\n",
    "print(\"After the consumtion of the 10 kWh system was set to equilibrium again and the remaining session had no extra costs\")\n",
    "printResult(\"User1 should have 0.429 ENT token returned from the consumption session\",PowerChain.call(METHODS.BALANCE_ENT,account=user1),[toInternalNumber(0.429),0])\n",
    "printResult(\"User1 starts a consumption session worth 0.429 ENT with unit1\",\n",
    "            \"session started\" in PowerChain.execute(METHODS.START_CONSUMPTION_SESSION,toAddress(unit1.address),toInternalNumber(0.429),account=user1),True)\n",
    "printResult(\"User1 consumes 0.429kWh from the consumption session with unit1 and unit1 reports it\",\n",
    "            PowerChain.execute(METHODS.ENERGY_CONSUMED,toAddress(user1.address),429,account=unit1) , \"\")\n",
    "printResult(\"No active consumption sessions for user1\",\n",
    "            len(PowerChain.call(METHODS.GET_CONSUMPTION_SESSIONS,account=user1)), 0)\n",
    "printResult(\"Total network energy is 0 kWh\",\n",
    "            PowerChain.call(METHODS.GET_TOTAL_KWH),0)"
   ]
  }
 ],
 "metadata": {
  "kernelspec": {
   "display_name": "Python 3",
   "language": "python",
   "name": "python3"
  },
  "language_info": {
   "codemirror_mode": {
    "name": "ipython",
    "version": 3
   },
   "file_extension": ".py",
   "mimetype": "text/x-python",
   "name": "python",
   "nbconvert_exporter": "python",
   "pygments_lexer": "ipython3",
   "version": "3.10.12"
  }
 },
 "nbformat": 4,
 "nbformat_minor": 2
}
